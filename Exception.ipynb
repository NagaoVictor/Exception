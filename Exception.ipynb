{
 "cells": [
  {
   "cell_type": "code",
   "execution_count": 11,
   "id": "1f4b75fb-a3f2-4034-b64a-ac4ce65dd4d8",
   "metadata": {},
   "outputs": [
    {
     "data": {
      "text/plain": [
       "'C:\\\\Users\\\\joaov\\\\Desktop'"
      ]
     },
     "execution_count": 11,
     "metadata": {},
     "output_type": "execute_result"
    }
   ],
   "source": [
    "import os\n",
    "os.chdir('C:\\\\Users\\\\joaov\\\\Desktop')\n",
    "os.getcwd()"
   ]
  },
  {
   "cell_type": "markdown",
   "id": "c408fbd2-2798-445c-9566-7d5b429abafc",
   "metadata": {},
   "source": [
    "<p style=\"color:#55FF55; font-family: 'Ink Free',  sans-serif; font-size: 30px; font-weight: bold;\">\n",
    "    Exception treatment\n",
    "</p>"
   ]
  },
  {
   "cell_type": "code",
   "execution_count": 12,
   "id": "d2f6ca65-1793-4eb8-9267-56068a60f90a",
   "metadata": {},
   "outputs": [],
   "source": [
    "def e(x):\n",
    "    if x < 0:\n",
    "        raise ValueError(\"x must be greater than 0\")\n",
    "    elif x == 0:\n",
    "        raise ValueError(\"Don't possible zero division\")\n",
    "    elif isinstance(x, float) == True:\n",
    "        raise ValueError(\"The index do not be float number\")\n",
    "    print((1 + (1/x))**x)"
   ]
  },
  {
   "cell_type": "code",
   "execution_count": 13,
   "id": "cb70e4d5-91ff-4559-b234-c29005513f9e",
   "metadata": {
    "scrolled": true
   },
   "outputs": [
    {
     "name": "stdout",
     "output_type": "stream",
     "text": [
      "2.0\n",
      "2.25\n",
      "2.37037037037037\n",
      "2.44140625\n",
      "2.4883199999999994\n",
      "2.5216263717421135\n",
      "2.546499697040712\n",
      "2.565784513950348\n",
      "2.5811747917131984\n"
     ]
    }
   ],
   "source": [
    "try:\n",
    "    for i in range(1,10):\n",
    "        e(i)\n",
    "except ValueError as e:\n",
    "    print(f'Erro: {e}')"
   ]
  },
  {
   "cell_type": "markdown",
   "id": "fe848736-046d-4f32-8a30-a06d3ca30679",
   "metadata": {},
   "source": [
    "<p style=\"color:#55FF55; font-family: 'Ink Free',  sans-serif; font-size: 30px; font-weight: bold;\">\n",
    "    Another way to see the object types\n",
    "</p>"
   ]
  },
  {
   "cell_type": "code",
   "execution_count": 3,
   "id": "2349598e-7dc4-48cf-89ee-9e4f35294b7a",
   "metadata": {},
   "outputs": [
    {
     "data": {
      "text/plain": [
       "True"
      ]
     },
     "execution_count": 3,
     "metadata": {},
     "output_type": "execute_result"
    }
   ],
   "source": [
    "x = 10\n",
    "eval('type(x)==int')"
   ]
  },
  {
   "cell_type": "markdown",
   "id": "0c074e1a-6d9e-4647-b6e3-07f4cd9b93ce",
   "metadata": {},
   "source": [
    "<p style=\"color:#55FF55; font-family: 'Ink Free',  sans-serif; font-size: 30px; font-weight: bold;\">\n",
    "    List the base exception\n",
    "</p>"
   ]
  },
  {
   "cell_type": "code",
   "execution_count": 4,
   "id": "b6d2c7c5-7e6a-4507-8968-94d21573e9ca",
   "metadata": {},
   "outputs": [
    {
     "name": "stdout",
     "output_type": "stream",
     "text": [
      "ArithmeticError\n",
      "AssertionError\n",
      "AttributeError\n",
      "BlockingIOError\n",
      "BrokenPipeError\n",
      "BufferError\n",
      "BytesWarning\n",
      "ChildProcessError\n",
      "ConnectionAbortedError\n",
      "ConnectionError\n",
      "ConnectionRefusedError\n",
      "ConnectionResetError\n",
      "DeprecationWarning\n",
      "EOFError\n",
      "EncodingWarning\n",
      "EnvironmentError\n",
      "Exception\n",
      "ExceptionGroup\n",
      "FileExistsError\n",
      "FileNotFoundError\n",
      "FloatingPointError\n",
      "FutureWarning\n",
      "IOError\n",
      "ImportError\n",
      "ImportWarning\n",
      "IndentationError\n",
      "IndexError\n",
      "InterruptedError\n",
      "IsADirectoryError\n",
      "KeyError\n",
      "LookupError\n",
      "MemoryError\n",
      "ModuleNotFoundError\n",
      "NameError\n",
      "NotADirectoryError\n",
      "NotImplementedError\n",
      "OSError\n",
      "OverflowError\n",
      "PendingDeprecationWarning\n",
      "PermissionError\n",
      "ProcessLookupError\n",
      "RecursionError\n",
      "ReferenceError\n",
      "ResourceWarning\n",
      "RuntimeError\n",
      "RuntimeWarning\n",
      "StopAsyncIteration\n",
      "StopIteration\n",
      "SyntaxError\n",
      "SyntaxWarning\n",
      "SystemError\n",
      "TabError\n",
      "TimeoutError\n",
      "TypeError\n",
      "UnboundLocalError\n",
      "UnicodeDecodeError\n",
      "UnicodeEncodeError\n",
      "UnicodeError\n",
      "UnicodeTranslateError\n",
      "UnicodeWarning\n",
      "UserWarning\n",
      "ValueError\n",
      "Warning\n",
      "WindowsError\n",
      "ZeroDivisionError\n"
     ]
    }
   ],
   "source": [
    "import builtins\n",
    "\n",
    "for name in dir(builtins):\n",
    "    obj = getattr(builtins, name)\n",
    "    if isinstance(obj, type) and issubclass(obj, Exception):\n",
    "        print(name)"
   ]
  },
  {
   "cell_type": "markdown",
   "id": "965c6fed-901b-48bc-be31-b354b46d3328",
   "metadata": {},
   "source": [
    "<p style=\"color:#55FF55; font-family: 'Ink Free',  sans-serif; font-size: 30px; font-weight: bold;\">\n",
    "    Traceback error\n",
    "</p>"
   ]
  },
  {
   "cell_type": "code",
   "execution_count": 7,
   "id": "9e6177cb-56d2-428c-a427-29e127420b68",
   "metadata": {},
   "outputs": [
    {
     "name": "stdout",
     "output_type": "stream",
     "text": [
      "Error: division by zero\n"
     ]
    },
    {
     "name": "stderr",
     "output_type": "stream",
     "text": [
      "Traceback (most recent call last):\n",
      "  File \"C:\\Users\\joaov\\AppData\\Local\\Temp\\ipykernel_4100\\1399418067.py\", line 9, in <module>\n",
      "    func_b()\n",
      "  File \"C:\\Users\\joaov\\AppData\\Local\\Temp\\ipykernel_4100\\1399418067.py\", line 6, in func_b\n",
      "    func_a()\n",
      "  File \"C:\\Users\\joaov\\AppData\\Local\\Temp\\ipykernel_4100\\1399418067.py\", line 3, in func_a\n",
      "    x = 10 / 0\n",
      "       ~~~^~~\n",
      "ZeroDivisionError: division by zero\n"
     ]
    }
   ],
   "source": [
    "import traceback\n",
    "def func_a():\n",
    "    x = 10 / 0 \n",
    "\n",
    "def func_b():\n",
    "    func_a()\n",
    "\n",
    "try:\n",
    "    func_b()\n",
    "except Exception as e:\n",
    "    print(\"Error:\", e)\n",
    "    traceback.print_exc()"
   ]
  },
  {
   "cell_type": "markdown",
   "id": "6ba72761-2484-4cec-ac7b-db8f6378f1cf",
   "metadata": {},
   "source": [
    "<p style=\"color:#55FF55; font-family: 'Ink Free',  sans-serif; font-size: 30px; font-weight: bold;\">\n",
    "    Method atribute\n",
    "</p>"
   ]
  },
  {
   "cell_type": "code",
   "execution_count": 17,
   "id": "875a4155-5aa4-44a0-832f-652169f9d105",
   "metadata": {},
   "outputs": [
    {
     "name": "stdout",
     "output_type": "stream",
     "text": [
      "Method signature: (n, p, x)\n",
      "\n",
      "\n",
      "-----------------------\n",
      "Method source\n",
      "def binomial(n, p, x):\n",
      "    try:\n",
      "        comb = (math.factorial(n)/(math.factorial(x)*math.factorial(n-x)))\n",
      "        prob = ((p)**(x))*((1-p)**(n-x))\n",
      "        return comb*prob\n",
      "    except Exception as e:\n",
      "        print(f\"Error: {e}\")\n",
      "\n",
      "-----------------------\n"
     ]
    }
   ],
   "source": [
    "# METHOD\n",
    "import math\n",
    "def binomial(n, p, x):\n",
    "    try:\n",
    "        comb = (math.factorial(n)/(math.factorial(x)*math.factorial(n-x)))\n",
    "        prob = ((p)**(x))*((1-p)**(n-x))\n",
    "        return comb*prob\n",
    "    except Exception as e:\n",
    "        print(f\"Error: {e}\")\n",
    "\n",
    "import inspect\n",
    "b = binomial\n",
    "sig = inspect.signature(b)\n",
    "print(f\"Method signature: {sig}\")\n",
    "print('\\n')\n",
    "print('-----------------------')\n",
    "source = inspect.getsource(b)\n",
    "print(f\"Method source\\n{source}\")\n",
    "print('-----------------------')"
   ]
  },
  {
   "cell_type": "markdown",
   "id": "07b172f4-3595-4ed6-b01b-f6a9ce37590a",
   "metadata": {},
   "source": [
    "<p style=\"color:#55FF55; font-family: 'Ink Free',  sans-serif; font-size: 30px; font-weight: bold;\">\n",
    "    Class method\n",
    "</p>"
   ]
  },
  {
   "cell_type": "code",
   "execution_count": 29,
   "id": "ea6beac0-9d77-43e5-a0b6-3ea2a3ba3416",
   "metadata": {},
   "outputs": [
    {
     "data": {
      "text/plain": [
       "['__class__',\n",
       " '__delattr__',\n",
       " '__dict__',\n",
       " '__dir__',\n",
       " '__doc__',\n",
       " '__eq__',\n",
       " '__format__',\n",
       " '__ge__',\n",
       " '__getattribute__',\n",
       " '__getstate__',\n",
       " '__gt__',\n",
       " '__hash__',\n",
       " '__init__',\n",
       " '__init_subclass__',\n",
       " '__le__',\n",
       " '__lt__',\n",
       " '__module__',\n",
       " '__ne__',\n",
       " '__new__',\n",
       " '__reduce__',\n",
       " '__reduce_ex__',\n",
       " '__repr__',\n",
       " '__setattr__',\n",
       " '__sizeof__',\n",
       " '__str__',\n",
       " '__subclasshook__',\n",
       " '__weakref__',\n",
       " 'changeElement',\n",
       " 'decreaseElement',\n",
       " 'getElement',\n",
       " 'increaseElement',\n",
       " 'popElement',\n",
       " 'seeElement',\n",
       " 'writeElement']"
      ]
     },
     "execution_count": 29,
     "metadata": {},
     "output_type": "execute_result"
    }
   ],
   "source": [
    "import inspect\n",
    "\n",
    "class Prototype:\n",
    "    def __new__(cls, *element): # create a instance\n",
    "        print(\"Call __new__\")\n",
    "        instance = super().__new__(cls)\n",
    "        return instance\n",
    "    \n",
    "    def __init__(self, element): # Initialition\n",
    "        self.__element = element\n",
    "        self.register = []\n",
    "    \n",
    "    def __repr__(self): # Call the object\n",
    "        return f'__repr__ message, {self.__element}'\n",
    "     \n",
    "    def __str__(self): # Return a string\n",
    "        return f'__str__ message, {self.__element}'\n",
    "    \n",
    "    def getElement(self): # Return element\n",
    "        return self.__element\n",
    "    \n",
    "    def increaseElement(self, increase=0): # Increase\n",
    "        self.__element = self.__element + increase \n",
    "        return self.__element\n",
    "    \n",
    "    def decreaseElement(self, decrease=0): # Decrease\n",
    "        self.__element = self.__element - decrease\n",
    "        return self.__element\n",
    "    \n",
    "    def changeElement(self, element): # Change the element\n",
    "        self.__element = element\n",
    "        return self.__element\n",
    "    \n",
    "    def writeElement(self): # Put the element in a list\n",
    "        self.register.append(self.__element)\n",
    "        return self.register\n",
    "    \n",
    "    def popElement(self, position): # Pop element by the index\n",
    "        try:\n",
    "            self.register.pop(position)\n",
    "            return self.register\n",
    "        except Exception as e:\n",
    "            return e\n",
    "        \n",
    "    \n",
    "    def seeElement(self): # See the list element\n",
    "        return self.register\n",
    "dir(Prototype)"
   ]
  }
 ],
 "metadata": {
  "kernelspec": {
   "display_name": "Python 3 (ipykernel)",
   "language": "python",
   "name": "python3"
  },
  "language_info": {
   "codemirror_mode": {
    "name": "ipython",
    "version": 3
   },
   "file_extension": ".py",
   "mimetype": "text/x-python",
   "name": "python",
   "nbconvert_exporter": "python",
   "pygments_lexer": "ipython3",
   "version": "3.12.4"
  }
 },
 "nbformat": 4,
 "nbformat_minor": 5
}
